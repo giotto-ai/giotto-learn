{
 "cells": [
  {
   "cell_type": "markdown",
   "metadata": {},
   "source": [
    "# Case study : Classification of graph entities - nodes and edges\n",
    "\n",
    "##### License: Apache 2.0\n",
    "\n",
    "\n",
    "The following notebook shows how it is possible to use the diffusion modules to classify nodes and edges of different generated graphs by taking into account their structural similarity. The idea is studied in the paper $\\href{https://arxiv.org/abs/1710.10321}{Learning Structural Node Embeddings Via Diffusion Wavelets}$ where the authors propose a method called GraphWave which exploits heat diffusion processes on graphs to embed nodes into a multidimensional euclidean space. The following procedure is a modification and extension version of GraphWave which allows to embed, and then classify, higher order graph structures like edges by exploiting concepts of Topological Data Analysis. "
   ]
  },
  {
   "cell_type": "code",
   "execution_count": null,
   "metadata": {
    "ExecuteTime": {
     "end_time": "2019-05-20T15:47:57.579995Z",
     "start_time": "2019-05-20T15:47:56.691344Z"
    }
   },
   "outputs": [],
   "source": [
    "import numpy as np \n",
    "import networkx as nx\n",
    "\n",
    "from giotto.graphs.create_clique_complex import CreateCliqueComplex, CreateLaplacianMatrices, CreateBoundaryMatrices\n",
    "from giotto.graphs.heat_diffusion import HeatDiffusion\n",
    "from giotto.graphs.graph_entropy import GraphEntropy\n",
    "from sklearn.decomposition import PCA\n",
    "from sklearn.cluster import KMeans\n"
   ]
  },
  {
   "cell_type": "markdown",
   "metadata": {},
   "source": [
    "# Plotting Functions #"
   ]
  },
  {
   "cell_type": "code",
   "execution_count": null,
   "metadata": {},
   "outputs": [],
   "source": [
    "import matplotlib\n",
    "import matplotlib.pyplot as plt\n",
    "from plotting import plot_network_diffusion, plot_entropies"
   ]
  },
  {
   "cell_type": "markdown",
   "metadata": {},
   "source": [
    "# Example 1 : The Barbell Graph#"
   ]
  },
  {
   "cell_type": "markdown",
   "metadata": {},
   "source": [
    "The first graph analyzed is the Barbell Graph which is studied also in the GraphWave paper. We generate here the graph and plot it. The graph is made of two fully connected clusters linked by a chain of nodes."
   ]
  },
  {
   "cell_type": "code",
   "execution_count": null,
   "metadata": {},
   "outputs": [],
   "source": [
    "g = nx.barbell_graph(9,7)\n",
    "#Layout for the plotted graph\n",
    "pos = nx.shell_layout(g)\n",
    "plt.figure(figsize=(20,8))\n",
    "plot_network_diffusion(g, pos)\n",
    "_ = plt.axis('off')"
   ]
  },
  {
   "cell_type": "markdown",
   "metadata": {},
   "source": [
    "# Create Complex and Laplacians #"
   ]
  },
  {
   "cell_type": "markdown",
   "metadata": {},
   "source": [
    "In this phase the clique complex of the graph is computed and returned as a dictionary. Once the dictionary $cd$ is computed, the relative zero and one laplacian matrices are computed by using $CreateLaplacianMatrices$."
   ]
  },
  {
   "cell_type": "code",
   "execution_count": null,
   "metadata": {
    "ExecuteTime": {
     "end_time": "2019-05-20T15:48:02.921096Z",
     "start_time": "2019-05-20T15:48:02.878821Z"
    }
   },
   "outputs": [],
   "source": [
    "cc = CreateCliqueComplex(g)\n",
    "cd = cc.create_complex_from_graph()\n",
    "laplacians = CreateLaplacianMatrices().fit_transform(cd, (0,1))"
   ]
  },
  {
   "cell_type": "markdown",
   "metadata": {},
   "source": [
    "# Find Embedding for nodes and edges#"
   ]
  },
  {
   "cell_type": "markdown",
   "metadata": {},
   "source": [
    "First of all it is necessery to set the hyperparameters of the algorithm that in this case are the points in time at which sampling node and edge diffusions."
   ]
  },
  {
   "cell_type": "code",
   "execution_count": null,
   "metadata": {
    "ExecuteTime": {
     "end_time": "2019-05-20T15:48:04.101586Z",
     "start_time": "2019-05-20T15:48:04.097570Z"
    }
   },
   "outputs": [],
   "source": [
    "#Hyperparameters \n",
    "\n",
    "#Temporal instants to take for node diffusions\n",
    "taus_n = np.linspace(0, 2, 40)\n",
    "\n",
    "#Temporal instants to take for edge diffusions\n",
    "taus_e = np.linspace(0, 2, 40)"
   ]
  },
  {
   "cell_type": "markdown",
   "metadata": {},
   "source": [
    "The Heat Diffusion process is here computed for nodes and edges. Given that the parameter $\\textit{initial_condition}$ is not passed to the $\\textit{HeatDiffusion}$ object, the identity matrix is taken. This means that for each node (edge) there is a heat diffusion process with inititial condition a delta on that node (edge)."
   ]
  },
  {
   "cell_type": "code",
   "execution_count": null,
   "metadata": {},
   "outputs": [],
   "source": [
    "heat_vectors_n = HeatDiffusion().fit_transform(laplacians[0], taus=taus_n)\n",
    "heat_vectors_e = HeatDiffusion().fit_transform(laplacians[1], taus=taus_e)"
   ]
  },
  {
   "cell_type": "markdown",
   "metadata": {},
   "source": [
    "Now that we have sampled the heat processes, given a fixed simplex (be either a node or an edge) and point in time, we treat the heat values as a probability distribution over the graph of which entropy is computed. The entropy values computed at different point in time represent the structural features of the simplex."
   ]
  },
  {
   "cell_type": "code",
   "execution_count": null,
   "metadata": {},
   "outputs": [],
   "source": [
    "mh_n = GraphEntropy().fit_transform(heat_vectors_n).T\n",
    "mh_e = GraphEntropy().fit_transform(heat_vectors_e).T"
   ]
  },
  {
   "cell_type": "markdown",
   "metadata": {},
   "source": [
    "# Clusters of nodes (0-simplices) based on structural embedding #"
   ]
  },
  {
   "cell_type": "markdown",
   "metadata": {},
   "source": [
    "In this step we cluster the points related to each node by using the KMeans algorithm. We can then represent each node with the centroid of its corresponding class."
   ]
  },
  {
   "cell_type": "code",
   "execution_count": null,
   "metadata": {
    "ExecuteTime": {
     "end_time": "2019-05-20T15:48:06.971995Z",
     "start_time": "2019-05-20T15:48:06.876571Z"
    }
   },
   "outputs": [],
   "source": [
    "#Simple K-mean\n",
    "kmeans = KMeans(n_clusters=6)\n",
    "kmeans.fit(np.transpose(mh_n))\n",
    "y_kmeans_n = kmeans.predict(np.transpose(mh_n))\n",
    "\n",
    "#Just for Visualization, plot 2D PCA embedding with points colored by classes\n",
    "pca = PCA(n_components=2)\n",
    "principalComponents = pca.fit_transform(np.transpose(mh_n))\n",
    "#Colors for classes (at most 8)\n",
    "col = ['blue', 'yellow', 'black', 'grey', 'green', 'brown', 'red', 'orange']\n",
    "barbell_node_cols = [col[e] for e in y_kmeans_n]\n",
    "_ = plt.scatter(np.ravel(principalComponents[:,0]),np.ravel(principalComponents[:,1]),  c=barbell_node_cols, s=100)\n",
    "_ = plt.title(\"2D-PCA representation of nodes in structural space\")"
   ]
  },
  {
   "cell_type": "markdown",
   "metadata": {},
   "source": [
    "We now plot the graph by coloring nodes with respect to their classes. We can see that different structural nodes, that is nodes with different structures in the neighborhood, are colored differently."
   ]
  },
  {
   "cell_type": "code",
   "execution_count": null,
   "metadata": {},
   "outputs": [],
   "source": [
    "#Plot the diffusion starting from a specific node at a specific time as a function defined over the nodes of the graph.\n",
    "plt.figure(figsize=(20,8))\n",
    "plot_network_diffusion(g, pos ,node_vector=barbell_node_cols)\n",
    "_ = plt.axis('off')"
   ]
  },
  {
   "cell_type": "markdown",
   "metadata": {},
   "source": [
    "# Cluster the 1-simplexes based on the embedding space #"
   ]
  },
  {
   "cell_type": "markdown",
   "metadata": {},
   "source": [
    "In addition to the node classfication we are able to provide a similar edge analisys thanks to the topological properties of higher order laplacians and heat diffusion processes defined over higher order structures."
   ]
  },
  {
   "cell_type": "code",
   "execution_count": null,
   "metadata": {
    "ExecuteTime": {
     "end_time": "2019-05-20T15:48:11.714799Z",
     "start_time": "2019-05-20T15:48:11.696484Z"
    }
   },
   "outputs": [],
   "source": [
    "#Simple K-mean\n",
    "kmeans = KMeans(n_clusters=6)\n",
    "kmeans.fit(np.transpose(mh_e))\n",
    "y_kmeans_e = kmeans.predict(np.transpose(mh_e))\n",
    "\n",
    "#Just for Visualization\n",
    "pca = PCA(n_components=2)\n",
    "principalComponents = pca.fit_transform(np.transpose(mh_e))\n",
    "#Associate colors to each nodes w.r.t. its class\n",
    "barbell_edge_cols = [col[e] for e in y_kmeans_e]\n",
    "_ = plt.scatter(np.ravel(principalComponents[:,0]),np.ravel(principalComponents[:,1]),  c=barbell_edge_cols, s=80)\n",
    "_ = plt.title(\"2D-PCA representation of edges in structural space\")"
   ]
  },
  {
   "cell_type": "code",
   "execution_count": null,
   "metadata": {},
   "outputs": [],
   "source": [
    "#Plot the diffusion starting from a specific node at a specific time as a function defined over the nodes of the graph.\n",
    "plt.figure(figsize=(20,8))\n",
    "plot_network_diffusion(g, pos, edge_vector=barbell_edge_cols)\n",
    "_ = plt.axis('off')"
   ]
  },
  {
   "cell_type": "markdown",
   "metadata": {},
   "source": [
    "# Example 2: Torus #"
   ]
  },
  {
   "cell_type": "markdown",
   "metadata": {},
   "source": [
    "We run exactly the same experiment with a graph which is a triangulation of a torus."
   ]
  },
  {
   "cell_type": "code",
   "execution_count": null,
   "metadata": {},
   "outputs": [],
   "source": [
    "g = nx.triangular_lattice_graph(10, 10, periodic=True)\n",
    "# Needed for the specific nx.grid_2d_graph labeling\n",
    "mapping = dict(zip(list(g.nodes), range(0, nx.number_of_nodes(g))))\n",
    "g = nx.relabel_nodes(g, mapping)"
   ]
  },
  {
   "cell_type": "code",
   "execution_count": null,
   "metadata": {},
   "outputs": [],
   "source": [
    "plt.figure(figsize=(20,8))\n",
    "pos = nx.spring_layout(g, iterations=1000)\n",
    "plot_network_diffusion(g, pos)\n",
    "_ = plt.axis('off')"
   ]
  },
  {
   "cell_type": "markdown",
   "metadata": {},
   "source": [
    "By this experiment we want to highlight the fact that, from the point of neighborhood structural similarity, all nodes of a torus are equivalent. Our method is able to capture this fact."
   ]
  },
  {
   "cell_type": "code",
   "execution_count": null,
   "metadata": {},
   "outputs": [],
   "source": [
    "cc = CreateCliqueComplex(g)\n",
    "cd = cc.create_complex_from_graph()\n",
    "laplacians = CreateLaplacianMatrices().fit_transform(cd, (0,1))\n",
    "\n",
    "heat_vectors_n = HeatDiffusion().fit_transform(laplacians[0], taus=taus_n)\n",
    "heat_vectors_e = HeatDiffusion().fit_transform(laplacians[1], taus=taus_e)\n",
    "mh_n = GraphEntropy().fit_transform(heat_vectors_n).T\n",
    "mh_e = GraphEntropy().fit_transform(heat_vectors_e).T\n",
    "\n",
    "#Simple K-mean\n",
    "kmeans = KMeans(n_clusters=1)\n",
    "kmeans.fit(np.transpose(mh_n))\n",
    "y_kmeans_n = kmeans.predict(np.transpose(mh_n))\n",
    "\n",
    "#Just for Visualization, plot 2D PCA embedding with points colored by classes\n",
    "pca = PCA(n_components=2)\n",
    "principalComponents = pca.fit_transform(np.transpose(mh_n))\n",
    "torus_node_cols = [col[e] for e in y_kmeans_n]\n",
    "_ = plt.scatter(np.ravel(principalComponents[:,0]),np.ravel(principalComponents[:,1]),  c=torus_node_cols, s=80)\n",
    "_ = plt.title(\"2D-PCA representation of nodes in structural space\")"
   ]
  },
  {
   "cell_type": "markdown",
   "metadata": {},
   "source": [
    "All nodes have the same color given that they represent the same structural class."
   ]
  },
  {
   "cell_type": "code",
   "execution_count": null,
   "metadata": {},
   "outputs": [],
   "source": [
    "#Plot the diffusion starting from a specific node at a specific time as a function defined over the nodes of the graph.\n",
    "plt.figure(figsize=(20,8))\n",
    "plot_network_diffusion(g,pos,node_vector=torus_node_cols)\n",
    "_ = plt.axis('off')\n"
   ]
  },
  {
   "cell_type": "markdown",
   "metadata": {},
   "source": [
    "Again it is interesting to see that, in the edge space, the 1-simplices can be grouped into two different classes corresponding to the direction of the two representative vector of the 1-homology class. Indeed in this specific triangulation of the torus there are exactly 2 1-dimensional holes."
   ]
  },
  {
   "cell_type": "code",
   "execution_count": null,
   "metadata": {},
   "outputs": [],
   "source": [
    "#Simple K-mean\n",
    "kmeans = KMeans(n_clusters=2)\n",
    "kmeans.fit(np.transpose(mh_e))\n",
    "y_kmeans_e = kmeans.predict(np.transpose(mh_e))\n",
    "\n",
    "#Just for Visualization\n",
    "pca = PCA(n_components=2)\n",
    "principalComponents = pca.fit_transform(np.transpose(mh_e))\n",
    "#Associate colors to each nodes w.r.t. its class\n",
    "torus_edge_cols = [col[e] for e in y_kmeans_e]\n",
    "_ = plt.scatter(np.ravel(principalComponents[:,0]),np.ravel(principalComponents[:,1]),  c=torus_edge_cols)\n",
    "_ = plt.title(\"2D-PCA representation of edges in structural space\")"
   ]
  },
  {
   "cell_type": "code",
   "execution_count": null,
   "metadata": {},
   "outputs": [],
   "source": [
    "#Plot the diffusion starting from a specific node at a specific time as a function defined over the nodes of the graph.\n",
    "plt.figure(figsize=(20,8))\n",
    "plot_network_diffusion(g, pos, edge_vector=torus_edge_cols)\n",
    "_ = plt.axis('off')"
   ]
  },
  {
   "cell_type": "markdown",
   "metadata": {},
   "source": [
    "# Node Heat Diffusion Process #\n",
    "\n",
    "Here we want to give a glimpse on the behaviour of the heat diffusion process on graph nodes. The following plots represent 3 snapshots of the process taken at 3 different points in time.  "
   ]
  },
  {
   "cell_type": "code",
   "execution_count": null,
   "metadata": {},
   "outputs": [],
   "source": [
    "# Plotting\n",
    "plt.figure(figsize=(20,6))\n",
    "for i in range(3):\n",
    "    plt.subplot(1,3,i+1)\n",
    "    plot_network_diffusion(g, pos, node_vector=heat_vectors_n[:,15,i*5])\n",
    "    plt.axis('off')"
   ]
  },
  {
   "cell_type": "markdown",
   "metadata": {},
   "source": [
    "# Example 3 : 2-D grid graph #"
   ]
  },
  {
   "cell_type": "code",
   "execution_count": null,
   "metadata": {},
   "outputs": [],
   "source": [
    "g = nx.triangular_lattice_graph(10,10, periodic=False)\n",
    "mapping = dict(zip(list(g.nodes), range(0, nx.number_of_nodes(g))))\n",
    "g = nx.relabel_nodes(g, mapping)\n",
    "pos =nx.spring_layout(g, iterations=2000)"
   ]
  },
  {
   "cell_type": "code",
   "execution_count": null,
   "metadata": {},
   "outputs": [],
   "source": [
    "cc = CreateCliqueComplex(g)\n",
    "cd = cc.create_complex_from_graph()\n",
    "laplacians = CreateLaplacianMatrices().fit_transform(cd, (0,1))"
   ]
  },
  {
   "cell_type": "code",
   "execution_count": null,
   "metadata": {},
   "outputs": [],
   "source": [
    "heat_vectors_n = HeatDiffusion().fit_transform(laplacians[0], taus=taus_n)\n",
    "heat_vectors_e = HeatDiffusion().fit_transform(laplacians[1], taus=taus_e)\n",
    "mh_n = GraphEntropy().fit_transform(heat_vectors_n).T\n",
    "mh_e = GraphEntropy().fit_transform(heat_vectors_e).T"
   ]
  },
  {
   "cell_type": "code",
   "execution_count": null,
   "metadata": {},
   "outputs": [],
   "source": [
    "#Simple K-mean\n",
    "kmeans = KMeans(n_clusters=6)\n",
    "kmeans.fit(np.transpose(mh_n))\n",
    "y_kmeans_n = kmeans.predict(np.transpose(mh_n))\n",
    "\n",
    "#Just for Visualization, plot 2D PCA embedding with points colored by classes\n",
    "pca = PCA(n_components=2)\n",
    "principalComponents = pca.fit_transform(np.transpose(mh_n))\n",
    "\n",
    "grid_nodes_cols = [col[e] for e in y_kmeans_n]\n",
    "_ = plt.scatter(np.ravel(principalComponents[:,0]),np.ravel(principalComponents[:,1]),  c=grid_nodes_cols)\n",
    "_ = plt.title(\"2D-PCA representation of nodes in structural space\")"
   ]
  },
  {
   "cell_type": "code",
   "execution_count": null,
   "metadata": {},
   "outputs": [],
   "source": [
    "#Plot the diffusion starting from a specific node at a specific time as a function defined over the nodes of the graph.\n",
    "plt.figure(figsize=(20,8))\n",
    "plot_network_diffusion(g, pos, node_vector=grid_nodes_cols)\n",
    "_ = plt.axis('off')"
   ]
  },
  {
   "cell_type": "code",
   "execution_count": null,
   "metadata": {},
   "outputs": [],
   "source": [
    "#Simple K-mean\n",
    "kmeans = KMeans(n_clusters=5)\n",
    "kmeans.fit(np.transpose(mh_e))\n",
    "y_kmeans_e = kmeans.predict(np.transpose(mh_e))\n",
    "\n",
    "#Just for Visualization\n",
    "pca = PCA(n_components=2)\n",
    "principalComponents = pca.fit_transform(np.transpose(mh_e))\n",
    "#Associate colors to each nodes w.r.t. its class\n",
    "grid_edge_cols = [col[e] for e in y_kmeans_e]\n",
    "plt.scatter(np.ravel(principalComponents[:,0]),np.ravel(principalComponents[:,1]),  c=grid_edge_cols)\n",
    "_ = plt.title(\"2D-PCA representation of edges in structural space\")"
   ]
  },
  {
   "cell_type": "code",
   "execution_count": null,
   "metadata": {},
   "outputs": [],
   "source": [
    "#Plot the diffusion starting from a specific node at a specific time as a function defined over the nodes of the graph.\n",
    "plt.figure(figsize=(20,8))\n",
    "plot_network_diffusion(g, pos, edge_vector=grid_edge_cols)\n",
    "_ = plt.axis('off')"
   ]
  }
 ],
 "metadata": {
  "kernelspec": {
   "display_name": "Python (py35)",
   "language": "python",
   "name": "py35"
  },
  "language_info": {
   "codemirror_mode": {
    "name": "ipython",
    "version": 3
   },
   "file_extension": ".py",
   "mimetype": "text/x-python",
   "name": "python",
   "nbconvert_exporter": "python",
   "pygments_lexer": "ipython3",
   "version": "3.5.6"
  },
  "toc": {
   "base_numbering": 1,
   "nav_menu": {},
   "number_sections": true,
   "sideBar": true,
   "skip_h1_title": false,
   "title_cell": "Table of Contents",
   "title_sidebar": "Contents",
   "toc_cell": false,
   "toc_position": {},
   "toc_section_display": true,
   "toc_window_display": false
  },
  "varInspector": {
   "cols": {
    "lenName": 16,
    "lenType": 16,
    "lenVar": 40
   },
   "kernels_config": {
    "python": {
     "delete_cmd_postfix": "",
     "delete_cmd_prefix": "del ",
     "library": "var_list.py",
     "varRefreshCmd": "print(var_dic_list())"
    },
    "r": {
     "delete_cmd_postfix": ") ",
     "delete_cmd_prefix": "rm(",
     "library": "var_list.r",
     "varRefreshCmd": "cat(var_dic_list()) "
    }
   },
   "types_to_exclude": [
    "module",
    "function",
    "builtin_function_or_method",
    "instance",
    "_Feature"
   ],
   "window_display": false
  }
 },
 "nbformat": 4,
 "nbformat_minor": 2
}
